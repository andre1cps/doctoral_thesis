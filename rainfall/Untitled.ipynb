{
 "cells": [
  {
   "cell_type": "markdown",
   "metadata": {},
   "source": [
    "# Rainfall studies"
   ]
  },
  {
   "cell_type": "code",
   "execution_count": 1,
   "metadata": {
    "collapsed": true
   },
   "outputs": [],
   "source": [
    "# Import needed packages.\n",
    "import numpy as np\n",
    "import matplotlib as mpl\n",
    "import matplotlib.pyplot as plt\n",
    "from mpl_toolkits.basemap import Basemap\n",
    "from pyhdf.SD import SD, SDC # To install this package with conda run:\n",
    "                             # >>> conda install -c conda-forge pyhdf\n",
    "    \n",
    "%matplotlib inline    "
   ]
  },
  {
   "cell_type": "code",
   "execution_count": 2,
   "metadata": {},
   "outputs": [
    {
     "data": {
      "text/plain": [
       "{'HQprecipitation': (('nlon', 'nlat'), (1440, 400), 5, 3),\n",
       " 'IRprecipitation': (('nlon', 'nlat'), (1440, 400), 5, 4),\n",
       " 'InputAlgorithmVersions': (('fakeDim3',), (0,), 3, 7),\n",
       " 'InputFileNames': (('fakeDim2',), (0,), 3, 6),\n",
       " 'InputGenerationDateTimes': (('fakeDim4',), (0,), 3, 8),\n",
       " 'precipitation': (('nlon', 'nlat'), (1440, 400), 5, 0),\n",
       " 'relativeError': (('nlon', 'nlat'), (1440, 400), 5, 1),\n",
       " 'satObservationTime': (('nlon', 'nlat'), (1440, 400), 20, 5),\n",
       " 'satPrecipitationSource': (('nlon', 'nlat'), (1440, 400), 22, 2)}"
      ]
     },
     "execution_count": 2,
     "metadata": {},
     "output_type": "execute_result"
    }
   ],
   "source": [
    "# Open file.\n",
    "file = '/home/alex/Área de Trabalho/rainfall_data/3B42.20161231.00.7.HDF'\n",
    "hdf = SD(file)\n",
    "\n",
    "# List available SDS datasets\n",
    "hdf.datasets()"
   ]
  },
  {
   "cell_type": "code",
   "execution_count": 3,
   "metadata": {
    "collapsed": true
   },
   "outputs": [],
   "source": [
    "# Read dataset.\n",
    "datafield_name = 'precipitation'\n",
    "\n",
    "data_hdf = hdf.select(datafield_name)\n",
    "data = data_hdf[:]"
   ]
  }
 ],
 "metadata": {
  "kernelspec": {
   "display_name": "Python 3",
   "language": "python",
   "name": "python3"
  },
  "language_info": {
   "codemirror_mode": {
    "name": "ipython",
    "version": 3
   },
   "file_extension": ".py",
   "mimetype": "text/x-python",
   "name": "python",
   "nbconvert_exporter": "python",
   "pygments_lexer": "ipython3",
   "version": "3.6.1"
  }
 },
 "nbformat": 4,
 "nbformat_minor": 2
}
