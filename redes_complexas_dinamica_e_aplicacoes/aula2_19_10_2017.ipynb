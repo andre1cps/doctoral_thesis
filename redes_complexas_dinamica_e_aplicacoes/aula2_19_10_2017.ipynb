{
 "cells": [
  {
   "cell_type": "markdown",
   "metadata": {},
   "source": [
    "## Segunda aula - 19/10/2017\n",
    "\n",
    "### Conceitos básicos de redes complexas"
   ]
  },
  {
   "cell_type": "code",
   "execution_count": 1,
   "metadata": {},
   "outputs": [],
   "source": [
    "# Importa os pacotes necessários.\n",
    "import networkx as nx\n",
    "import matplotlib.pylab as plt\n",
    "import numpy as np\n",
    "\n",
    "# Ignora mensagens de warnings na hora de desenhar o grafo.\n",
    "import warnings\n",
    "warnings.filterwarnings('ignore') \n",
    "\n",
    "%matplotlib inline"
   ]
  },
  {
   "cell_type": "code",
   "execution_count": 2,
   "metadata": {},
   "outputs": [
    {
     "data": {
      "image/png": "[encoded data removed]",
      "text/plain": [
       "<matplotlib.figure.Figure at 0x7f659cbfc390>"
      ]
     },
     "metadata": {},
     "output_type": "display_data"
    }
   ],
   "source": [
    "# Cria o objeto para o grafo exemplo.\n",
    "g = nx.Graph()\n",
    "\n",
    "# Adiciona as arestas.\n",
    "g.add_edges_from([(1, 2), (1, 3), (2, 3), (3, 4), (4, 5)])\n",
    "\n",
    "# Desenha o grafo exemplo.\n",
    "nx.draw_networkx(g)\n",
    "plt.title(\"Exemplo\");"
   ]
  },
  {
   "cell_type": "markdown",
   "metadata": {},
   "source": [
    "### Exercícios:\n",
    "\n",
    "1) Fornecer uma lista de adjacência ou uma matriz de adjacência e converter uma forma à outra.\n",
    "\n",
    "2) Dada uma matriz de adjacência Madj, calcule, sem usar bibliotecas específicas, os seguintes índices básicos:\n",
    "\n",
    "\n",
    " - a) Ordem N e tamanho L;\n",
    " \n",
    " \n",
    " - b) Os graus ki's dos vértices i's (i = 1, 2, 3, ..., N) e a respectiva média km;\n",
    " \n",
    " \n",
    " - c) Os coeficientes de aglomeração ci's e a respectiva média cm;\n",
    " \n",
    " \n",
    " - d) Os mínimos caminhos médios li's e a respectiva média lm;\n",
    " \n",
    " \n",
    " - e) E o diâmetro Diam do grafo."
   ]
  },
  {
   "cell_type": "code",
   "execution_count": 3,
   "metadata": {
    "collapsed": true
   },
   "outputs": [],
   "source": [
    "# Lista de adjacência do exemplo.\n",
    "Ladj = np.array([(1, 2), (1, 3), (2, 3), (3, 4), (4, 5)])\n",
    "\n",
    "# Matriz de adjacência do exemplo.\n",
    "Madj = np.array([[0, 1, 1, 0, 0],\n",
    "                 [1, 0, 1, 0, 0],\n",
    "                 [1, 1, 0, 1, 0],\n",
    "                 [0, 0, 1, 0, 1],\n",
    "                 [0, 0, 0, 1, 0]])"
   ]
  },
  {
   "cell_type": "markdown",
   "metadata": {},
   "source": [
    "### Respostas"
   ]
  },
  {
   "cell_type": "markdown",
   "metadata": {},
   "source": [
    "#### Exercício 1:"
   ]
  },
  {
   "cell_type": "code",
   "execution_count": 4,
   "metadata": {
    "collapsed": true
   },
   "outputs": [],
   "source": [
    "def Ladj2Madj(Ladj):\n",
    "    \n",
    "    # Conta quantos nós há na rede.\n",
    "    N = np.size(np.unique(Ladj))\n",
    "    \n",
    "    # Inicializa a matriz.\n",
    "    Madj = np.zeros((N, N))\n",
    "    \n",
    "    # Preenche a matriz.\n",
    "    for aresta in Ladj:\n",
    "        i = aresta[0] - 1\n",
    "        j = aresta[1] - 1\n",
    "        Madj[i][j] = Madj[j][i] = 1\n",
    "    \n",
    "    return Madj\n",
    "    \n",
    "    \n",
    "def Madj2Ladj(Madj):\n",
    "    \n",
    "    # Conta quantos nós há na rede.\n",
    "    N = Madj.shape[0]\n",
    "    \n",
    "    # Inicializa a lista.\n",
    "    Ladj = []\n",
    "    \n",
    "    # Itera acima da diagonal da matriz.\n",
    "    for i in range(N):\n",
    "        for j in range(i + 1, N):\n",
    "            if Madj[i, j] != 0:\n",
    "                 aresta = (i + 1, j + 1)\n",
    "                 Ladj.append(aresta)   \n",
    "            \n",
    "    return np.array(Ladj) "
   ]
  },
  {
   "cell_type": "markdown",
   "metadata": {},
   "source": [
    "#### Exercício 2:"
   ]
  },
  {
   "cell_type": "code",
   "execution_count": null,
   "metadata": {
    "collapsed": true
   },
   "outputs": [],
   "source": []
  },
  {
   "cell_type": "markdown",
   "metadata": {},
   "source": [
    "### Testes"
   ]
  },
  {
   "cell_type": "markdown",
   "metadata": {},
   "source": [
    "#### Exercício 1:"
   ]
  },
  {
   "cell_type": "code",
   "execution_count": 5,
   "metadata": {},
   "outputs": [
    {
     "name": "stdout",
     "output_type": "stream",
     "text": [
      "[[ True  True  True  True  True]\n",
      " [ True  True  True  True  True]\n",
      " [ True  True  True  True  True]\n",
      " [ True  True  True  True  True]\n",
      " [ True  True  True  True  True]]\n"
     ]
    }
   ],
   "source": [
    "# Testa se é possível recuperar Madj a partir de Ladj\n",
    "print(Ladj2Madj(Ladj) == Madj)"
   ]
  },
  {
   "cell_type": "code",
   "execution_count": 6,
   "metadata": {},
   "outputs": [
    {
     "name": "stdout",
     "output_type": "stream",
     "text": [
      "[[ True  True]\n",
      " [ True  True]\n",
      " [ True  True]\n",
      " [ True  True]\n",
      " [ True  True]]\n"
     ]
    }
   ],
   "source": [
    "# Testa se é possível recuperar Ladj a partir de Madj\n",
    "print(Madj2Ladj(Madj) == Ladj)"
   ]
  },
  {
   "cell_type": "markdown",
   "metadata": {},
   "source": [
    "#### Exercício 2:"
   ]
  },
  {
   "cell_type": "code",
   "execution_count": null,
   "metadata": {
    "collapsed": true
   },
   "outputs": [],
   "source": []
  },
  {
   "cell_type": "markdown",
   "metadata": {},
   "source": [
    "### Testes adicionais com outro grafo"
   ]
  },
  {
   "cell_type": "code",
   "execution_count": 7,
   "metadata": {},
   "outputs": [
    {
     "data": {
      "image/png": "[encoded data removed]",
      "text/plain": [
       "<matplotlib.figure.Figure at 0x7f6573405710>"
      ]
     },
     "metadata": {},
     "output_type": "display_data"
    }
   ],
   "source": [
    "# Grafo randômico.\n",
    "g_er = nx.erdos_renyi_graph(10, 0.5)\n",
    "\n",
    "# Matriz de adjacência do grafo randômico acima. \n",
    "Madj_er = nx.adjacency_matrix(g_er)\n",
    "\n",
    "# Desenha o grafo.\n",
    "nx.draw_networkx(g_er)\n",
    "plt.title(\"Grafo Randômico\");"
   ]
  },
  {
   "cell_type": "markdown",
   "metadata": {},
   "source": [
    "#### Exercício 1:"
   ]
  },
  {
   "cell_type": "code",
   "execution_count": 8,
   "metadata": {
    "scrolled": true
   },
   "outputs": [
    {
     "name": "stdout",
     "output_type": "stream",
     "text": [
      "\n",
      "Listas de adjacência:\n",
      "\n",
      "---- a) gerada pelo pacote networkx: ---- \n",
      "\n",
      "0 1 2 3 7 8\n",
      "1 2 3 4 5 7 8 9\n",
      "2 5 6 7 9\n",
      "3 8\n",
      "4 5 6 8\n",
      "5 7\n",
      "6 7 9\n",
      "7\n",
      "8\n",
      "9\n",
      "\n",
      "---- b) gerada pela minha funcao = ---- \n",
      "\n",
      "[0 1][0 2][0 3][0 7][0 8][1 2][1 3][1 4][1 5][1 7][1 8][1 9][2 5][2 6][2 7][2 9][3 8][4 5][4 6][4 8][5 7][6 7][6 9]"
     ]
    }
   ],
   "source": [
    "# Testa se a lista de adjacência gerada pelo pacote networkx é igual  \n",
    "# à lista gerada pela minha função.\n",
    "\n",
    "print(\"\\nListas de adjacência:\\n\")\n",
    "print(\"---- a) gerada pelo pacote networkx: ---- \\n\")\n",
    "for line in nx.adjlist.generate_adjlist(g_er):\n",
    "    print(line)\n",
    "    \n",
    "print(\"\\n---- b) gerada pela minha funcao = ---- \\n\")    \n",
    "for i in (Madj2Ladj(Madj_er)):\n",
    "    print(i-1, end='')"
   ]
  },
  {
   "cell_type": "markdown",
   "metadata": {},
   "source": [
    "#### Exercício 2:"
   ]
  },
  {
   "cell_type": "code",
   "execution_count": null,
   "metadata": {
    "collapsed": true
   },
   "outputs": [],
   "source": []
  }
 ],
 "metadata": {
  "kernelspec": {
   "display_name": "Python 3",
   "language": "python",
   "name": "python3"
  },
  "language_info": {
   "codemirror_mode": {
    "name": "ipython",
    "version": 3
   },
   "file_extension": ".py",
   "mimetype": "text/x-python",
   "name": "python",
   "nbconvert_exporter": "python",
   "pygments_lexer": "ipython3",
   "version": "3.6.1"
  }
 },
 "nbformat": 4,
 "nbformat_minor": 2
}
