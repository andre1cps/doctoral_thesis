{
 "cells": [
  {
   "cell_type": "code",
   "execution_count": 32,
   "metadata": {
    "collapsed": true
   },
   "outputs": [],
   "source": [
    "# Importa os pacotes necessários.\n",
    "import networkx as nx\n",
    "import pylab as plt\n",
    "import numpy as np\n",
    "\n",
    "# Ignora mensagens de warnings na hora de desenhar o grafo.\n",
    "import warnings\n",
    "warnings.filterwarnings('ignore') \n",
    "\n",
    "%matplotlib inline"
   ]
  },
  {
   "cell_type": "code",
   "execution_count": 33,
   "metadata": {
    "collapsed": true
   },
   "outputs": [],
   "source": [
    "# Cria o objeto grafo.\n",
    "g = nx.Graph()\n",
    "\n",
    "# Lista de adjacência.\n",
    "Ladj = [(1, 2), (1, 3), (2, 3), (3, 4), (4, 5)]\n",
    "\n",
    "# Adiciona as arestas.\n",
    "g.add_edges_from(Ladj)"
   ]
  },
  {
   "cell_type": "code",
   "execution_count": 34,
   "metadata": {},
   "outputs": [
    {
     "data": {
      "image/png": "[encoded data removed]",
      "text/plain": [
       "<matplotlib.figure.Figure at 0x7fafc3dee550>"
      ]
     },
     "metadata": {},
     "output_type": "display_data"
    }
   ],
   "source": [
    "# Desenha o grafo\n",
    "nx.draw_networkx(g)"
   ]
  },
  {
   "cell_type": "markdown",
   "metadata": {},
   "source": [
    "### Exercício:\n",
    "\n",
    "Dada uma matriz de adjacência Madj, calcule, sem usar bibliotecas específicas, os seguintes índices básicos:\n",
    "\n",
    "\n",
    " 1) Ordem N e tamanho L;\n",
    " \n",
    " \n",
    " 2) Os graus ki's dos vértices i's (i = 1, 2, 3, ..., N) e a respectiva média km;\n",
    " \n",
    " \n",
    " 3) Os coeficientes de aglomeração ci's e a respectiva média cm;\n",
    " \n",
    " \n",
    " 4) Os mínimos caminhos médios li's e a respectiva média lm;\n",
    " \n",
    " \n",
    " 5) E o diâmetro Diam do grafo."
   ]
  },
  {
   "cell_type": "code",
   "execution_count": 35,
   "metadata": {
    "collapsed": true
   },
   "outputs": [],
   "source": [
    "# Matriz de adjacência para o grafo da figura anterior.\n",
    "Madj = np.array([[0, 1, 1, 0, 0],\n",
    "                 [1, 0, 1, 0, 0],\n",
    "                 [1, 1, 0, 1, 0],\n",
    "                 [0, 0, 1, 0, 1],\n",
    "                 [0, 0, 0, 1, 0]])"
   ]
  },
  {
   "cell_type": "code",
   "execution_count": 56,
   "metadata": {},
   "outputs": [],
   "source": [
    "# 1) Ordem N e tamanho L.\n",
    "def N(Madj):\n",
    "    return Madj.shape[0]\n",
    "\n",
    "def L(Madj):\n",
    "    return int(np.sum(Madj)/2)\n",
    "\n",
    "# 2) Os graus ki's dos vértices i's (i = 1, 2, 3, ..., N) e a respectiva média km.\n",
    "def kis(Madj):\n",
    "    return np.sum(Madj, axis=0)\n",
    "\n",
    "def km(Madj):\n",
    "    return np.mean(kis(Madj))\n",
    "\n",
    "# Os coeficientes de aglomeração ci's e a respectiva média cm.\n",
    "def Eis(Madj):  \n",
    "    pass"
   ]
  },
  {
   "cell_type": "code",
   "execution_count": null,
   "metadata": {
    "collapsed": true
   },
   "outputs": [],
   "source": []
  }
 ],
 "metadata": {
  "kernelspec": {
   "display_name": "Python 3",
   "language": "python",
   "name": "python3"
  },
  "language_info": {
   "codemirror_mode": {
    "name": "ipython",
    "version": 3
   },
   "file_extension": ".py",
   "mimetype": "text/x-python",
   "name": "python",
   "nbconvert_exporter": "python",
   "pygments_lexer": "ipython3",
   "version": "3.6.1"
  }
 },
 "nbformat": 4,
 "nbformat_minor": 2
}
