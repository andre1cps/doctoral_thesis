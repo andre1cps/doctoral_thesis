{
 "cells": [
  {
   "cell_type": "markdown",
   "metadata": {},
   "source": [
    "## Segunda aula - 19/10/2017\n",
    "\n",
    "### Conceitos básicos de redes complexas"
   ]
  },
  {
   "cell_type": "code",
   "execution_count": 1,
   "metadata": {
    "collapsed": true
   },
   "outputs": [],
   "source": [
    "# Importa os pacotes necessários.\n",
    "import networkx as nx\n",
    "import matplotlib.pylab as plt\n",
    "import numpy as np\n",
    "\n",
    "# Ignora mensagens de warnings na hora de desenhar o grafo.\n",
    "import warnings\n",
    "warnings.filterwarnings('ignore') \n",
    "\n",
    "%matplotlib inline"
   ]
  },
  {
   "cell_type": "code",
   "execution_count": 7,
   "metadata": {},
   "outputs": [
    {
     "data": {
      "image/png": "[encoded data removed]",
      "text/plain": [
       "<matplotlib.figure.Figure at 0x7fad1dae4080>"
      ]
     },
     "metadata": {},
     "output_type": "display_data"
    }
   ],
   "source": [
    "# Cria o objeto para o grafo exemplo.\n",
    "g = nx.Graph()\n",
    "\n",
    "# Adiciona as arestas.\n",
    "g.add_edges_from([(1, 2), (1, 3), (2, 3), (3, 4), (4, 5)])\n",
    "\n",
    "# Desenha o grafo exemplo.\n",
    "nx.draw_networkx(g)\n",
    "plt.title(\"Exemplo\");"
   ]
  },
  {
   "cell_type": "markdown",
   "metadata": {},
   "source": [
    "### Exercícios:\n",
    "\n",
    "1) Fornecer uma lista de adjacência ou uma matriz de adjacência e converter uma forma à outra.\n",
    "\n",
    "2) Dada uma matriz de adjacência Madj, calcule, sem usar bibliotecas específicas, os seguintes índices básicos:\n",
    "\n",
    "\n",
    " - a) Ordem N e tamanho L;\n",
    " \n",
    " \n",
    " - b) Os graus ki's dos vértices i's (i = 1, 2, 3, ..., N) e a respectiva média km;\n",
    " \n",
    " \n",
    " - c) Os coeficientes de aglomeração ci's e a respectiva média cm;\n",
    " \n",
    " \n",
    " - d) Os mínimos caminhos médios li's e a respectiva média lm;\n",
    " \n",
    " \n",
    " - e) E o diâmetro Diam do grafo."
   ]
  },
  {
   "cell_type": "code",
   "execution_count": 3,
   "metadata": {
    "collapsed": true
   },
   "outputs": [],
   "source": [
    "# Lista de adjacência do exemplo.\n",
    "Ladj = np.array([(1, 2), (1, 3), (2, 3), (3, 4), (4, 5)])\n",
    "\n",
    "# Matriz de adjacência do exemplo.\n",
    "Madj = np.array([[0, 1, 1, 0, 0],\n",
    "                 [1, 0, 1, 0, 0],\n",
    "                 [1, 1, 0, 1, 0],\n",
    "                 [0, 0, 1, 0, 1],\n",
    "                 [0, 0, 0, 1, 0]])"
   ]
  },
  {
   "cell_type": "markdown",
   "metadata": {},
   "source": [
    "### Respostas"
   ]
  },
  {
   "cell_type": "markdown",
   "metadata": {},
   "source": [
    "#### Exercício 1:"
   ]
  },
  {
   "cell_type": "code",
   "execution_count": 4,
   "metadata": {
    "collapsed": true
   },
   "outputs": [],
   "source": [
    "def Ladj2Madj(Ladj):\n",
    "    \n",
    "    # Conta quantos nós há na rede.\n",
    "    N = np.size(np.unique(Ladj))\n",
    "    \n",
    "    # Inicializa a matriz.\n",
    "    Madj = np.zeros((N, N))\n",
    "    \n",
    "    # Preenche a matriz.\n",
    "    for aresta in Ladj:\n",
    "        i = aresta[0] - 1\n",
    "        j = aresta[1] - 1\n",
    "        Madj[i][j] = Madj[j][i] = 1\n",
    "    \n",
    "    return Madj\n",
    "    \n",
    "    \n",
    "def Madj2Ladj(Madj):\n",
    "    \n",
    "    # Conta quantos nós há na rede.\n",
    "    N = Madj.shape[0]\n",
    "    \n",
    "    # Inicializa a lista.\n",
    "    Ladj = []\n",
    "    \n",
    "    # Itera acima da diagonal da matriz.\n",
    "    for i in range(N):\n",
    "        for j in range(i + 1, N):\n",
    "            if Madj[i, j] != 0:\n",
    "                 aresta = (i + 1, j + 1)\n",
    "                 Ladj.append(aresta)   \n",
    "            \n",
    "    return np.array(Ladj) "
   ]
  },
  {
   "cell_type": "markdown",
   "metadata": {},
   "source": [
    "#### Exercício 2:"
   ]
  },
  {
   "cell_type": "code",
   "execution_count": 226,
   "metadata": {},
   "outputs": [],
   "source": [
    "def ordem(Madj):\n",
    "    return Madj.shape[0]\n",
    "    \n",
    "    \n",
    "def tamanho(Madj):\n",
    "    return np.sum(Madj)/2\n",
    "\n",
    "\n",
    "def graus(Madj):\n",
    "    \n",
    "    # Inicializa o vetor com os graus dos vértices. \n",
    "    kis = np.array([])\n",
    "    \n",
    "    # Loop na diagonal da matriz.\n",
    "    for i in range(ordem(Madj)):\n",
    "        \n",
    "        # Soma dos elementos das linhas.\n",
    "        soma = np.sum(Madj[i, :])\n",
    "        kis = np.append(kis, soma) \n",
    "    \n",
    "    return kis \n",
    "\n",
    "\n",
    "def grau_medio(Madj):\n",
    "    return np.mean(graus(Madj))\n",
    "\n",
    "\n",
    "def coeficientes_de_aglomeracao(Madj, verbose=False):\n",
    "    \n",
    "    # Inicializa o vetor com os coeficientes de aglomeração dos vértices. \n",
    "    Cis = np.array([])\n",
    "    \n",
    "    # Vetor com os graus dos vértices.\n",
    "    kis = graus(Madj)\n",
    "    \n",
    "    # Imprime os coeficientes calculados para cada vértice no modo verboso.\n",
    "    if verbose == True:\n",
    "        print(\"\\nModo verboso:\\n\")\n",
    "    \n",
    "    # Loop em cada vértice.\n",
    "    for i in range(ordem(Madj)):\n",
    "        \n",
    "        # Acha as posições dos vizinhos do i-ésimo vértice.\n",
    "        vizinhosi = np.where(Madj[i, :] == 1)[0]\n",
    "        \n",
    "        # Grau do i-ésimo vértice.\n",
    "        ki = kis[i]\n",
    "        \n",
    "        # Inicializa número de arestas entre os vizinhos do i-ésimo vértice.\n",
    "        Ei = 0\n",
    "        \n",
    "        # Testa se os vizinhos estão ligados entre si.\n",
    "        for j in range(0, len(vizinhosi)):\n",
    "            for k in range(j + 1, len(vizinhosi)):\n",
    "                if Madj[vizinhosi[j], vizinhosi[k]] == 1:\n",
    "                    Ei = Ei + 1\n",
    "        \n",
    "        # Calcula o coeficiente de aglomeração do i-ésimo vértice..\n",
    "        if ki == 1: \n",
    "            Ci = 0 # Evita divisão por zero.\n",
    "        \n",
    "        else:\n",
    "            Ci = 2*Ei/ki/(ki-1)\n",
    "            \n",
    "        Cis = np.append(Cis, Ci)\n",
    "        \n",
    "        if verbose == True:\n",
    "            print(\"Vértice i=%u:  ki=%u  Ei=%u  Ci=%.2f  vizinhos=%s\" %(i+1, ki, Ei, Ci, vizinhosi+1))\n",
    "    \n",
    "    return Cis    \n",
    "\n",
    "\n",
    "def coeficientes_de_aglomeracao_medio(Madj):\n",
    "    return np.mean(coeficientes_de_aglomeracao(Madj))\n",
    "\n",
    "# Função para imprimir informações.\n",
    "def imprime(Madj): \n",
    "    coeficientes_de_aglomeracao(Madj, verbose=True)"
   ]
  },
  {
   "cell_type": "code",
   "execution_count": 140,
   "metadata": {},
   "outputs": [
    {
     "data": {
      "text/plain": [
       "array([ 1.,  1.,  1.,  1.,  0.])"
      ]
     },
     "execution_count": 140,
     "metadata": {},
     "output_type": "execute_result"
    }
   ],
   "source": [
    "Cis"
   ]
  },
  {
   "cell_type": "code",
   "execution_count": 66,
   "metadata": {},
   "outputs": [
    {
     "data": {
      "text/plain": [
       "array([[ 4.,  2.],\n",
       "       [ 3.,  2.],\n",
       "       [ 5.,  6.]])"
      ]
     },
     "execution_count": 66,
     "metadata": {},
     "output_type": "execute_result"
    }
   ],
   "source": [
    "lista1"
   ]
  },
  {
   "cell_type": "code",
   "execution_count": null,
   "metadata": {
    "collapsed": true
   },
   "outputs": [],
   "source": []
  },
  {
   "cell_type": "markdown",
   "metadata": {},
   "source": [
    "### Testes"
   ]
  },
  {
   "cell_type": "markdown",
   "metadata": {},
   "source": [
    "#### Exercício 1:"
   ]
  },
  {
   "cell_type": "code",
   "execution_count": 5,
   "metadata": {},
   "outputs": [
    {
     "name": "stdout",
     "output_type": "stream",
     "text": [
      "[[ True  True  True  True  True]\n",
      " [ True  True  True  True  True]\n",
      " [ True  True  True  True  True]\n",
      " [ True  True  True  True  True]\n",
      " [ True  True  True  True  True]]\n"
     ]
    }
   ],
   "source": [
    "# Testa se é possível recuperar Madj a partir de Ladj.\n",
    "print(Ladj2Madj(Ladj) == Madj)"
   ]
  },
  {
   "cell_type": "code",
   "execution_count": 6,
   "metadata": {},
   "outputs": [
    {
     "name": "stdout",
     "output_type": "stream",
     "text": [
      "[[ True  True]\n",
      " [ True  True]\n",
      " [ True  True]\n",
      " [ True  True]\n",
      " [ True  True]]\n"
     ]
    }
   ],
   "source": [
    "# Testa se é possível recuperar Ladj a partir de Madj.\n",
    "print(Madj2Ladj(Madj) == Ladj)"
   ]
  },
  {
   "cell_type": "markdown",
   "metadata": {},
   "source": [
    "#### Exercício 2:"
   ]
  },
  {
   "cell_type": "code",
   "execution_count": null,
   "metadata": {
    "collapsed": true
   },
   "outputs": [],
   "source": []
  },
  {
   "cell_type": "markdown",
   "metadata": {},
   "source": [
    "### Testes adicionais com outro grafo"
   ]
  },
  {
   "cell_type": "code",
   "execution_count": 218,
   "metadata": {},
   "outputs": [
    {
     "data": {
      "image/png": "[encoded data removed]",
      "text/plain": [
       "<matplotlib.figure.Figure at 0x7fad1d80be48>"
      ]
     },
     "metadata": {},
     "output_type": "display_data"
    }
   ],
   "source": [
    "# Matriz de adjacência de um gráfico randômico. \n",
    "Madj_er = nx.adjacency_matrix(nx.erdos_renyi_graph(10, 0.5)).todense()\n",
    "\n",
    "# Cria o objeto grafo correspondente a matriz acima.\n",
    "g_er = nx.Graph()\n",
    "nx.from_numpy_matrix(Madj_er, create_using=g_er)\n",
    "\n",
    "# Renomeando os nós.\n",
    "velhos = np.array(g_er.nodes())      # Começa em 0.\n",
    "novos = np.array(g_er.nodes()) + 1  # Começa em 1.\n",
    "renomeia = dict(zip(velhos, novos))\n",
    "nx.relabel_nodes(g_er, renomeia, copy=False)\n",
    "\n",
    "# Desenha o grafo.\n",
    "nx.draw_networkx(g_er)\n",
    "plt.title(\"Grafo Randômico\");"
   ]
  },
  {
   "cell_type": "code",
   "execution_count": 222,
   "metadata": {},
   "outputs": [
    {
     "name": "stdout",
     "output_type": "stream",
     "text": [
      "\n",
      "Modo verboso\n",
      "\n",
      "Vértice i=1:  ki=4  Ei=3  Ci=0.50  vizinhos=[ 3  5  7 10]\n",
      "Vértice i=2:  ki=4  Ei=2  Ci=0.33  vizinhos=[6 7 8 9]\n",
      "Vértice i=3:  ki=2  Ei=1  Ci=1.00  vizinhos=[1 5]\n",
      "Vértice i=4:  ki=5  Ei=6  Ci=0.60  vizinhos=[ 5  7  8  9 10]\n",
      "Vértice i=5:  ki=5  Ei=5  Ci=0.50  vizinhos=[ 1  3  4  7 10]\n",
      "Vértice i=6:  ki=2  Ei=0  Ci=0.00  vizinhos=[ 2 10]\n",
      "Vértice i=7:  ki=6  Ei=6  Ci=0.40  vizinhos=[1 2 4 5 8 9]\n",
      "Vértice i=8:  ki=4  Ei=3  Ci=0.50  vizinhos=[ 2  4  7 10]\n",
      "Vértice i=9:  ki=4  Ei=3  Ci=0.50  vizinhos=[ 2  4  7 10]\n",
      "Vértice i=10:  ki=6  Ei=4  Ci=0.27  vizinhos=[1 4 5 6 8 9]\n"
     ]
    }
   ],
   "source": [
    "imprime(np.array(Madj_er))"
   ]
  },
  {
   "cell_type": "markdown",
   "metadata": {},
   "source": [
    "#### Exercício 1:"
   ]
  },
  {
   "cell_type": "code",
   "execution_count": 14,
   "metadata": {
    "scrolled": true
   },
   "outputs": [
    {
     "name": "stdout",
     "output_type": "stream",
     "text": [
      "\n",
      "Listas de adjacência:\n",
      "\n",
      "---- a) gerada pelo pacote networkx: ---- \n",
      "\n",
      "0 1 5 8 9\n",
      "1 8\n",
      "2 4 5 6\n",
      "3 4 7\n",
      "4 5 8 9\n",
      "5 6 7 8\n",
      "6 7 8 9\n",
      "7 8 9\n",
      "8 9\n",
      "9\n",
      "\n",
      "---- b) gerada pela minha funcao = ---- \n",
      "\n",
      "[0 1][0 5][0 8][0 9][1 8][2 4][2 5][2 6][3 4][3 7][4 5][4 8][4 9][5 6][5 7][5 8][6 7][6 8][6 9][7 8][7 9][8 9]"
     ]
    }
   ],
   "source": [
    "# Testa se a lista de adjacência gerada pelo pacote networkx é igual  \n",
    "# à lista gerada pela minha função.\n",
    "\n",
    "print(\"\\nListas de adjacência:\\n\")\n",
    "print(\"---- a) gerada pelo pacote networkx: ---- \\n\")\n",
    "for line in nx.adjlist.generate_adjlist(g_er):\n",
    "    print(line)\n",
    "    \n",
    "print(\"\\n---- b) gerada pela minha funcao = ---- \\n\")    \n",
    "for i in (Madj2Ladj(Madj_er)):\n",
    "    print(i-1, end='')"
   ]
  },
  {
   "cell_type": "markdown",
   "metadata": {},
   "source": [
    "#### Exercício 2:"
   ]
  },
  {
   "cell_type": "code",
   "execution_count": 188,
   "metadata": {},
   "outputs": [
    {
     "name": "stdout",
     "output_type": "stream",
     "text": [
      "\n",
      "Modo verboso\n",
      "\n",
      "Vértice i=1:  ki=4  Ei=3  Ci=0.50  vizinhos=[ 2  6  9 10]\n",
      "Vértice i=2:  ki=2  Ei=1  Ci=1.00  vizinhos=[1 9]\n",
      "Vértice i=3:  ki=3  Ei=2  Ci=0.67  vizinhos=[5 6 7]\n",
      "Vértice i=4:  ki=2  Ei=0  Ci=0.00  vizinhos=[5 8]\n",
      "Vértice i=5:  ki=5  Ei=3  Ci=0.30  vizinhos=[ 3  4  6  9 10]\n",
      "Vértice i=6:  ki=6  Ei=7  Ci=0.47  vizinhos=[1 3 5 7 8 9]\n",
      "Vértice i=7:  ki=5  Ei=6  Ci=0.60  vizinhos=[ 3  6  8  9 10]\n",
      "Vértice i=8:  ki=5  Ei=5  Ci=0.50  vizinhos=[ 4  6  7  9 10]\n",
      "Vértice i=9:  ki=7  Ei=10  Ci=0.48  vizinhos=[ 1  2  5  6  7  8 10]\n",
      "Vértice i=10:  ki=5  Ei=5  Ci=0.50  vizinhos=[1 5 7 8 9]\n"
     ]
    }
   ],
   "source": [
    "Cis = coeficientes_de_aglomeracao(np.array(Madj_er.todense()), verbose=True)"
   ]
  },
  {
   "cell_type": "code",
   "execution_count": 189,
   "metadata": {},
   "outputs": [
    {
     "data": {
      "text/plain": [
       "matrix([[0, 1, 0, 0, 0, 1, 0, 0, 1, 1],\n",
       "        [1, 0, 0, 0, 0, 0, 0, 0, 1, 0],\n",
       "        [0, 0, 0, 0, 1, 1, 1, 0, 0, 0],\n",
       "        [0, 0, 0, 0, 1, 0, 0, 1, 0, 0],\n",
       "        [0, 0, 1, 1, 0, 1, 0, 0, 1, 1],\n",
       "        [1, 0, 1, 0, 1, 0, 1, 1, 1, 0],\n",
       "        [0, 0, 1, 0, 0, 1, 0, 1, 1, 1],\n",
       "        [0, 0, 0, 1, 0, 1, 1, 0, 1, 1],\n",
       "        [1, 1, 0, 0, 1, 1, 1, 1, 0, 1],\n",
       "        [1, 0, 0, 0, 1, 0, 1, 1, 1, 0]], dtype=int64)"
      ]
     },
     "execution_count": 189,
     "metadata": {},
     "output_type": "execute_result"
    }
   ],
   "source": [
    "Madj_er.todense()"
   ]
  },
  {
   "cell_type": "code",
   "execution_count": 186,
   "metadata": {},
   "outputs": [
    {
     "data": {
      "text/plain": [
       "array([[0, 1, 1, 0, 0],\n",
       "       [1, 0, 1, 0, 0],\n",
       "       [1, 1, 0, 1, 0],\n",
       "       [0, 0, 1, 0, 1],\n",
       "       [0, 0, 0, 1, 0]])"
      ]
     },
     "execution_count": 186,
     "metadata": {},
     "output_type": "execute_result"
    }
   ],
   "source": [
    "Madj"
   ]
  },
  {
   "cell_type": "code",
   "execution_count": null,
   "metadata": {
    "collapsed": true
   },
   "outputs": [],
   "source": []
  }
 ],
 "metadata": {
  "kernelspec": {
   "display_name": "Python 3",
   "language": "python",
   "name": "python3"
  },
  "language_info": {
   "codemirror_mode": {
    "name": "ipython",
    "version": 3
   },
   "file_extension": ".py",
   "mimetype": "text/x-python",
   "name": "python",
   "nbconvert_exporter": "python",
   "pygments_lexer": "ipython3",
   "version": "3.6.1"
  }
 },
 "nbformat": 4,
 "nbformat_minor": 2
}
